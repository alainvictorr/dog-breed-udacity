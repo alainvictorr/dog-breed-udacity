{
 "cells": [
  {
   "cell_type": "code",
   "execution_count": null,
   "metadata": {},
   "outputs": [],
   "source": [
    "import numpy as np\n",
    "from glob import glob\n",
    "\n",
    "# load filenames for human and dog images\n",
    "human_files = np.array(glob(\"./data/lfw/*/*\"))\n",
    "dog_files = np.array(glob(\"./data/dogImages/*/*/*\"))\n",
    "\n",
    "# print number of images in each dataset\n",
    "print('There are %d total human images.' % len(human_files))\n",
    "print('There are %d total dog images.' % len(dog_files))"
   ]
  },
  {
   "cell_type": "code",
   "execution_count": null,
   "metadata": {},
   "outputs": [],
   "source": [
    "import torch\n",
    "import torchvision.models as models\n",
    "\n",
    "# define VGG16 model\n",
    "VGG16 = models.vgg16(pretrained=True)\n",
    "\n",
    "# check if CUDA is available\n",
    "use_cuda = torch.cuda.is_available()\n",
    "\n",
    "# move model to GPU if CUDA is available\n",
    "if use_cuda:\n",
    "    VGG16 = VGG16.cuda()"
   ]
  },
  {
   "cell_type": "code",
   "execution_count": null,
   "metadata": {},
   "outputs": [],
   "source": [
    "def count_parameters(model):\n",
    "    return sum(p.numel() for p in model.parameters() if p.requires_grad)\n",
    "\n",
    "print(f'The model has {count_parameters(VGG16):,} trainable parameters')"
   ]
  },
  {
   "cell_type": "code",
   "execution_count": null,
   "metadata": {},
   "outputs": [],
   "source": [
    "VGG16.classifier[-1]"
   ]
  },
  {
   "cell_type": "code",
   "execution_count": null,
   "metadata": {},
   "outputs": [],
   "source": [
    "from PIL import Image\n",
    "import torchvision.transforms as transforms\n",
    "\n",
    "def VGG16_predict(img_path):\n",
    "    '''\n",
    "    Use pre-trained VGG-16 model to obtain index corresponding to \n",
    "    predicted ImageNet class for image at specified path\n",
    "    \n",
    "    Args:\n",
    "        img_path: path to an image\n",
    "        \n",
    "    Returns:\n",
    "        Index corresponding to VGG-16 model's prediction\n",
    "    '''\n",
    "    \n",
    "    ## TODO: Complete the function.\n",
    "    ## Load and pre-process an image from the given img_path\n",
    "    img = load_image(img_path)\n",
    "    if use_cuda:\n",
    "        img = img.cuda()\n",
    "    ret = VGG16(img) \n",
    "    \n",
    "    ## Return the *index* of the predicted class for that image\n",
    "        \n",
    "    return torch.max(ret,1)[1].item() # predicted class index"
   ]
  },
  {
   "cell_type": "code",
   "execution_count": null,
   "metadata": {},
   "outputs": [],
   "source": [
    "from PIL import Image\n",
    "import torchvision.transforms as transforms\n",
    "import torch.utils.data as data\n",
    "import torchvision.datasets as datasets\n",
    "\n",
    "pretrained_size = 224\n",
    "pretrained_means = [0.485, 0.456, 0.406]\n",
    "pretrained_stds= [0.229, 0.224, 0.225]\n",
    "\n",
    "def load_image(img_path):    \n",
    "    image = Image.open(img_path).convert('RGB')\n",
    "    # resize to (244, 244) because VGG16 accept this shape\n",
    "    train_transforms = transforms.Compose([\n",
    "                           transforms.Resize(pretrained_size),\n",
    "                           transforms.RandomRotation(5),\n",
    "                           transforms.RandomHorizontalFlip(0.5),\n",
    "                           transforms.RandomCrop(pretrained_size, padding = 10),\n",
    "                           transforms.ToTensor(),\n",
    "                           transforms.Normalize(mean = pretrained_means, \n",
    "                                                std = pretrained_stds)\n",
    "                       ])\n",
    "    \n",
    "    test_transforms = transforms.Compose([\n",
    "                           transforms.Resize(pretrained_size),\n",
    "                           transforms.ToTensor(),\n",
    "                           transforms.Normalize(mean = pretrained_means, \n",
    "                                                std = pretrained_stds)\n",
    "                       ])\n",
    "\n",
    "    # discard the transparent, alpha channel (that's the :3) and add the batch dimension\n",
    "    image = train_transforms(image)[:3,:,:].unsqueeze(0)\n",
    "    return image"
   ]
  },
  {
   "cell_type": "code",
   "execution_count": null,
   "metadata": {},
   "outputs": [],
   "source": [
    "### returns \"True\" if a dog is detected in the image stored at img_path\n",
    "def dog_detector(img_path):\n",
    "    ## TODO: Complete the function.\n",
    "    value=VGG16_predict(img_path)\n",
    "    if 268>=value>=151:\n",
    "      return True\n",
    "    else:\n",
    "      return False\n",
    "    #return None # true/false"
   ]
  },
  {
   "cell_type": "code",
   "execution_count": null,
   "metadata": {},
   "outputs": [],
   "source": [
    "url2='./Data/dogImages/train/001.Affenpinscher/Affenpinscher_00001.jpg'\n",
    "url3='./Data/dogImages/test/006.American_eskimo_dog/American_eskimo_dog_00406.jpg'\n",
    "url4='./Data/lfw/Aaron_Guiel/Aaron_Guiel_0001.jpg'\n",
    "\n",
    "print(dog_detector(url2))\n",
    "print(dog_detector(url3))\n",
    "print(dog_detector(url4))"
   ]
  },
  {
   "cell_type": "code",
   "execution_count": null,
   "metadata": {},
   "outputs": [],
   "source": [
    "from tqdm import tqdm\n",
    "human_files_short = human_files[:100]\n",
    "dog_files_short = dog_files[:100]\n",
    "\n",
    "count=0\n",
    "count2=0\n",
    "for i in tqdm(range(len(human_files_short))):\n",
    "  if dog_detector(human_files_short[i])==True:\n",
    "    count+=1\n",
    "  if dog_detector(dog_files_short[i])==True:\n",
    "    count2+=1\n",
    "\n",
    "print('')\n",
    "print(count/len(human_files_short),count2/len(dog_files_short))"
   ]
  },
  {
   "cell_type": "code",
   "execution_count": null,
   "metadata": {},
   "outputs": [],
   "source": [
    "pip install efficientnet_pytorch"
   ]
  },
  {
   "cell_type": "code",
   "execution_count": null,
   "metadata": {},
   "outputs": [],
   "source": [
    "import random\n",
    "import torch\n",
    "import numpy as np\n",
    "#seed_value = 1234\n",
    "seed_value = 1000\n",
    "random.seed(seed_value)\n",
    "np.random.seed(seed_value)\n",
    "torch.manual_seed(seed_value)\n",
    "torch.cuda.manual_seed(seed_value)\n",
    "torch.backends.cudnn.deterministic = True"
   ]
  },
  {
   "cell_type": "code",
   "execution_count": 1,
   "metadata": {},
   "outputs": [],
   "source": [
    "import os\n",
    "from PIL import Image\n",
    "import torchvision.transforms as transforms\n",
    "from torchvision import datasets\n",
    "import torch.utils.data as data\n",
    "import torchvision.datasets as datasets\n",
    "\n",
    "### TODO: Write data loaders for training, validation, and test sets\n",
    "## Specify appropriate transforms, and batch_sizes\n",
    "\n",
    "pretrained_means = [0.485, 0.456, 0.406]\n",
    "pretrained_stds= [0.229, 0.224, 0.225]\n",
    "\n",
    "train_transforms = transforms.Compose([\n",
    "                           transforms.Resize(256),\n",
    "                           transforms.RandomPerspective(0.5,0.5,2,0),\n",
    "                           transforms.RandomHorizontalFlip(),\n",
    "                           transforms.CenterCrop(224),\n",
    "                           transforms.ToTensor(), \n",
    "                           transforms.Normalize(mean = pretrained_means, \n",
    "                                                std = pretrained_stds)\n",
    "                       ])\n",
    "\n",
    "valid_transforms = transforms.Compose([\n",
    "                           #transforms.Resize(pretrained_size),#test orig out\n",
    "                           transforms.Resize(256), #test orig\n",
    "                           transforms.CenterCrop(224),#test orig \n",
    "                           transforms.ToTensor(),\n",
    "                           transforms.Normalize(mean = pretrained_means, \n",
    "                                                std = pretrained_stds)\n",
    "                       ])\n",
    "\n",
    "test_transforms = transforms.Compose([\n",
    "                           #transforms.Resize(size=(pretrained_size,pretrained_size)),\n",
    "                           transforms.Resize(256),\n",
    "                           transforms.CenterCrop(224), #test orig\n",
    "                           transforms.ToTensor(),\n",
    "                           transforms.Normalize(mean = pretrained_means, \n",
    "                                                std = pretrained_stds)\n",
    "                       ])"
   ]
  },
  {
   "cell_type": "code",
   "execution_count": 2,
   "metadata": {},
   "outputs": [],
   "source": [
    "train_data=datasets.ImageFolder('./Data/dogImages/train',transform=train_transforms)\n",
    "valid_data=datasets.ImageFolder('./Data/dogImages/valid',transform=valid_transforms)\n",
    "test_data=datasets.ImageFolder('./Data/dogImages/test',transform=test_transforms)"
   ]
  },
  {
   "cell_type": "code",
   "execution_count": 3,
   "metadata": {},
   "outputs": [
    {
     "name": "stdout",
     "output_type": "stream",
     "text": [
      "Number of training examples: 6680\n",
      "Number of validation examples: 835\n",
      "Number of testing examples: 836\n"
     ]
    }
   ],
   "source": [
    "print(f'Number of training examples: {len(train_data)}')\n",
    "print(f'Number of validation examples: {len(valid_data)}')\n",
    "print(f'Number of testing examples: {len(test_data)}')"
   ]
  },
  {
   "cell_type": "code",
   "execution_count": 4,
   "metadata": {},
   "outputs": [],
   "source": [
    "BATCH_SIZE = 10\n",
    "\n",
    "train_iterator = data.DataLoader(train_data, \n",
    "                                 shuffle = True, \n",
    "                                 batch_size = BATCH_SIZE)\n",
    "valid_iterator = data.DataLoader(valid_data, \n",
    "                                 batch_size = BATCH_SIZE)\n",
    "test_iterator = data.DataLoader(test_data, \n",
    "                                batch_size = BATCH_SIZE)\n",
    "\n",
    "loaders= {\n",
    "    'train': train_iterator,\n",
    "    'valid': valid_iterator,\n",
    "    'test': test_iterator}"
   ]
  },
  {
   "cell_type": "code",
   "execution_count": 5,
   "metadata": {},
   "outputs": [],
   "source": [
    "import torch\n",
    "import torch.nn as nn\n",
    "import torch.nn.functional as F\n",
    "\n",
    "num_classes = 133\n",
    "\n",
    "# define the CNN architecture\n",
    "class Net(nn.Module):\n",
    "    \n",
    "    def __init__(self):\n",
    "        super(Net, self).__init__()\n",
    "        ## Define layers of a CNN\n",
    "        self.conv1 = nn.Conv2d(3, 32, 3, stride=2, padding=1)\n",
    "        self.conv2 = nn.Conv2d(32, 64, 3, stride=2, padding=1)\n",
    "        self.conv3 = nn.Conv2d(64, 128, 3, padding=1)\n",
    "\n",
    "        # pool\n",
    "        self.pool = nn.MaxPool2d(2, 2)\n",
    "        \n",
    "        # fully-connected\n",
    "        self.fc1 = nn.Linear(7*7*128, 500)\n",
    "        self.fc2 = nn.Linear(500, num_classes) \n",
    "        \n",
    "        # drop-out\n",
    "        self.dropout = nn.Dropout(0.3)\n",
    "    def forward(self, x):\n",
    "        ## Define forward behavior\n",
    "        x = F.relu(self.conv1(x))\n",
    "        x = self.pool(x)\n",
    "        x = F.relu(self.conv2(x))\n",
    "        x = self.pool(x)\n",
    "        x = F.relu(self.conv3(x))\n",
    "        x = self.pool(x)\n",
    "        \n",
    "        # flatten\n",
    "        x = x.view(-1, 7*7*128)\n",
    "        \n",
    "        x = self.dropout(x)\n",
    "        x = F.relu(self.fc1(x))\n",
    "        \n",
    "        x = self.dropout(x)\n",
    "        x = self.fc2(x)\n",
    "        return x\n",
    "\n",
    "model = Net()\n",
    "\n",
    "use_cuda = torch.cuda.is_available()\n",
    "\n",
    "# move tensors to GPU if CUDA is available\n",
    "if use_cuda:\n",
    "    model.cuda()"
   ]
  },
  {
   "cell_type": "code",
   "execution_count": 6,
   "metadata": {},
   "outputs": [],
   "source": [
    "#encoder and decoder to convert classes into integer\n",
    "classes = train_data.classes\n",
    "decoder = {}\n",
    "for i in range(len(classes)):\n",
    "    decoder[classes[i]] = i\n",
    "encoder = {}\n",
    "for i in range(len(classes)):\n",
    "    encoder[i] = classes[i]"
   ]
  },
  {
   "cell_type": "code",
   "execution_count": 7,
   "metadata": {},
   "outputs": [
    {
     "data": {
      "application/vnd.jupyter.widget-view+json": {
       "model_id": "29756f972a1f4612bfdf20d4993585a0",
       "version_major": 2,
       "version_minor": 0
      },
      "text/plain": [
       "HBox(children=(FloatProgress(value=0.0, max=350.0), HTML(value='')))"
      ]
     },
     "metadata": {},
     "output_type": "display_data"
    },
    {
     "name": "stdout",
     "output_type": "stream",
     "text": [
      "\n",
      "Learning rate search finished. See the graph with {finder_name}.plot()\n",
      "LR suggestion: steepest gradient\n",
      "Suggested LR: 5.75E-02\n"
     ]
    },
    {
     "data": {
      "image/png": "[encoded data removed]",
      "text/plain": [
       "<Figure size 432x288 with 1 Axes>"
      ]
     },
     "metadata": {
      "needs_background": "light"
     },
     "output_type": "display_data"
    },
    {
     "name": "stdout",
     "output_type": "stream",
     "text": [
      "Wall time: 52 s\n"
     ]
    }
   ],
   "source": [
    "%%time\n",
    "#TWEEKED FASTAI\n",
    "from torch_lr_finder import LRFinder\n",
    "import torch.optim as optim\n",
    "\n",
    "device = torch.device(\"cuda\" if torch.cuda.is_available() else \"cpu\")\n",
    "classifier = model\n",
    "criterion = nn.CrossEntropyLoss()\n",
    "\n",
    "#optimizer = optim.Adam(model.parameters(), lr=1e-7, weight_decay=1e-2)\n",
    "optimizer = optim.SGD(classifier.parameters(), lr=1e-7,weight_decay=1e-2)\n",
    "lr_finder = LRFinder(classifier, optimizer, criterion, device=device)\n",
    "lr_finder.range_test(train_iterator, end_lr=0.1, num_iter=350)\n",
    "#lr_finder.range_test(train_iterator, end_lr=100, num_iter=100)\n",
    "lr_finder.plot() # to inspect the loss-learning rate graph\n",
    "lr_finder.reset() # to reset the model and optimizer to their in"
   ]
  },
  {
   "cell_type": "code",
   "execution_count": null,
   "metadata": {},
   "outputs": [],
   "source": [
    "%%time\n",
    "#LESLIE SMITH\n",
    "from torch_lr_finder import LRFinder\n",
    "import torch.optim as optim\n",
    "\n",
    "device = torch.device(\"cuda\" if torch.cuda.is_available() else \"cpu\")\n",
    "criterion = nn.CrossEntropyLoss()\n",
    "\n",
    "#optimizer = optim.Adam(model.parameters(), lr=0.1, weight_decay=1e-2)\n",
    "optimizer = optim.SGD(classifier.parameters(), lr=0.001, weight_decay=1e-2)\n",
    "lr_finder = LRFinder(model, optimizer, criterion, device=\"cuda\")\n",
    "lr_finder.range_test(train_iterator, val_loader=valid_iterator, end_lr=0.1, num_iter=40, step_mode=\"linear\")\n",
    "lr_finder.plot(log_lr=False)\n",
    "lr_finder.reset()"
   ]
  },
  {
   "cell_type": "code",
   "execution_count": 8,
   "metadata": {},
   "outputs": [],
   "source": [
    "import torch.optim as optim\n",
    "\n",
    "#FOUND_LR = 1e-3\n",
    "optimizer = optim.SGD(model.parameters(), lr = 0.0575)\n",
    "#optimizer = optim.SGD(model.parameters(), lr = 0.0264)\n",
    "#optimizer = optim.SGD(model.parameters(), lr = 0.000785)\n",
    "#optimizer = optim.SGD(model.parameters(), lr = 0.000000224)\n",
    "#optimizer = optim.SGD(model.parameters(), lr = 0.05)\n",
    "criterion = nn.CrossEntropyLoss() #our loss function (which will also apply the softmax activation function)\n",
    "device = torch.device('cuda' if torch.cuda.is_available() else 'cpu') #to put our model and data on the GPU\n",
    "\n",
    "#model = model.to(device) # colocando el modelo en el device\n",
    "criterion = criterion.to(device) # colocando el criterio en el device"
   ]
  },
  {
   "cell_type": "code",
   "execution_count": 12,
   "metadata": {},
   "outputs": [],
   "source": [
    "import os\n",
    "import numpy as np\n",
    "from PIL import ImageFile\n",
    "ImageFile.LOAD_TRUNCATED_IMAGES = True\n",
    "\n",
    "def train(n_epochs, loaders, model, optimizer, criterion, use_cuda,save_path):\n",
    "    \"\"\"returns trained model\"\"\"\n",
    "    # initialize tracker for minimum validation loss\n",
    "    valid_loss_min = np.Inf \n",
    "    \n",
    "    for epoch in range(1, n_epochs+1):\n",
    "        # initialize variables to monitor training and validation loss\n",
    "        train_loss = 0.0\n",
    "        valid_loss = 0.0\n",
    "        \n",
    "        ###################\n",
    "        # train the model #\n",
    "        ###################\n",
    "        model.train()\n",
    "        \n",
    "        for batch_idx, (data, target) in enumerate(loaders['train']):\n",
    "            # move to GPU\n",
    "            if use_cuda:\n",
    "                data, target = data.cuda(), target.cuda()\n",
    "            ## find the loss and update the model parameters accordingly\n",
    "            ## record the average training loss, using something like\n",
    "            ## train_loss = train_loss + ((1 / (batch_idx + 1)) * (loss.data - train_loss))\n",
    "            # initialize weights to zero\n",
    "            optimizer.zero_grad()\n",
    "            \n",
    "            output = model(data)\n",
    "            \n",
    "            # calculate loss\n",
    "            loss = criterion(output, target)\n",
    "            \n",
    "            # back prop\n",
    "            loss.backward()\n",
    "            \n",
    "            # grad\n",
    "            optimizer.step()\n",
    "            \n",
    "            train_loss = train_loss + ((1 / (batch_idx + 1)) * (loss.data - train_loss))\n",
    "            \n",
    "            if batch_idx % 100 == 0:\n",
    "                print('Epoch %d, Batch %d loss: %.6f' %\n",
    "                  (epoch, batch_idx + 1, train_loss))\n",
    "        ######################    \n",
    "        # validate the model #\n",
    "        ######################\n",
    "        model.eval()\n",
    "        for batch_idx, (data, target) in enumerate(loaders['valid']):\n",
    "            # move to GPU\n",
    "            if use_cuda:\n",
    "                data, target = data.cuda(), target.cuda()\n",
    "            ## update the average validation loss\n",
    "            output = model(data)\n",
    "            loss = criterion(output, target)\n",
    "            valid_loss = valid_loss + ((1 / (batch_idx + 1)) * (loss.data - valid_loss))\n",
    "            \n",
    "        # print training/validation statistics \n",
    "        print('Epoch: {} \\tTraining Loss: {:.6f} \\tValidation Loss: {:.6f}'.format(\n",
    "            epoch, \n",
    "            train_loss,\n",
    "            valid_loss\n",
    "            ))\n",
    "        \n",
    "        ## TODO: save the model if validation loss has decreased\n",
    "        if valid_loss < valid_loss_min:\n",
    "            torch.save(model.state_dict(), save_path)\n",
    "            print('Validation loss decreased ({:.6f} --> {:.6f}).  Saving model ...'.format(\n",
    "            valid_loss_min,\n",
    "            valid_loss))\n",
    "            valid_loss_min = valid_loss\n",
    "              \n",
    "    # return trained model\n",
    "    return model"
   ]
  },
  {
   "cell_type": "code",
   "execution_count": 13,
   "metadata": {},
   "outputs": [
    {
     "name": "stdout",
     "output_type": "stream",
     "text": [
      "Epoch 1, Batch 1 loss: 4.904364\n",
      "Epoch 1, Batch 101 loss: 4.890393\n",
      "Epoch 1, Batch 201 loss: 4.888535\n",
      "Epoch 1, Batch 301 loss: 4.886327\n",
      "Epoch 1, Batch 401 loss: 4.876527\n",
      "Epoch 1, Batch 501 loss: 4.866904\n",
      "Epoch 1, Batch 601 loss: 4.848593\n",
      "Epoch: 1 \tTraining Loss: 4.835149 \tValidation Loss: 4.651509\n",
      "Validation loss decreased (inf --> 4.651509).  Saving model ...\n",
      "Epoch 2, Batch 1 loss: 4.571523\n",
      "Epoch 2, Batch 101 loss: 4.671921\n",
      "Epoch 2, Batch 201 loss: 4.637563\n",
      "Epoch 2, Batch 301 loss: 4.626429\n",
      "Epoch 2, Batch 401 loss: 4.615039\n",
      "Epoch 2, Batch 501 loss: 4.602752\n",
      "Epoch 2, Batch 601 loss: 4.590831\n",
      "Epoch: 2 \tTraining Loss: 4.588365 \tValidation Loss: 4.459999\n",
      "Validation loss decreased (4.651509 --> 4.459999).  Saving model ...\n",
      "Epoch 3, Batch 1 loss: 4.136799\n",
      "Epoch 3, Batch 101 loss: 4.449347\n",
      "Epoch 3, Batch 201 loss: 4.433549\n",
      "Epoch 3, Batch 301 loss: 4.429031\n",
      "Epoch 3, Batch 401 loss: 4.425333\n",
      "Epoch 3, Batch 501 loss: 4.419917\n",
      "Epoch 3, Batch 601 loss: 4.414335\n",
      "Epoch: 3 \tTraining Loss: 4.414951 \tValidation Loss: 4.370277\n",
      "Validation loss decreased (4.459999 --> 4.370277).  Saving model ...\n",
      "Epoch 4, Batch 1 loss: 4.779905\n",
      "Epoch 4, Batch 101 loss: 4.300867\n",
      "Epoch 4, Batch 201 loss: 4.304698\n",
      "Epoch 4, Batch 301 loss: 4.305202\n",
      "Epoch 4, Batch 401 loss: 4.303131\n",
      "Epoch 4, Batch 501 loss: 4.303931\n",
      "Epoch 4, Batch 601 loss: 4.301130\n",
      "Epoch: 4 \tTraining Loss: 4.298063 \tValidation Loss: 4.245172\n",
      "Validation loss decreased (4.370277 --> 4.245172).  Saving model ...\n",
      "Epoch 5, Batch 1 loss: 4.741982\n",
      "Epoch 5, Batch 101 loss: 4.148298\n",
      "Epoch 5, Batch 201 loss: 4.153178\n",
      "Epoch 5, Batch 301 loss: 4.161056\n",
      "Epoch 5, Batch 401 loss: 4.160203\n",
      "Epoch 5, Batch 501 loss: 4.167650\n",
      "Epoch 5, Batch 601 loss: 4.161971\n",
      "Epoch: 5 \tTraining Loss: 4.157868 \tValidation Loss: 4.297966\n",
      "Epoch 6, Batch 1 loss: 4.437357\n",
      "Epoch 6, Batch 101 loss: 4.058296\n",
      "Epoch 6, Batch 201 loss: 4.064886\n",
      "Epoch 6, Batch 301 loss: 4.047567\n",
      "Epoch 6, Batch 401 loss: 4.049041\n",
      "Epoch 6, Batch 501 loss: 4.044951\n",
      "Epoch 6, Batch 601 loss: 4.039361\n",
      "Epoch: 6 \tTraining Loss: 4.044402 \tValidation Loss: 4.054244\n",
      "Validation loss decreased (4.245172 --> 4.054244).  Saving model ...\n",
      "Epoch 7, Batch 1 loss: 3.480497\n",
      "Epoch 7, Batch 101 loss: 3.909691\n",
      "Epoch 7, Batch 201 loss: 3.916683\n",
      "Epoch 7, Batch 301 loss: 3.888878\n",
      "Epoch 7, Batch 401 loss: 3.907250\n",
      "Epoch 7, Batch 501 loss: 3.914271\n",
      "Epoch 7, Batch 601 loss: 3.922054\n",
      "Epoch: 7 \tTraining Loss: 3.921006 \tValidation Loss: 4.032879\n",
      "Validation loss decreased (4.054244 --> 4.032879).  Saving model ...\n",
      "Epoch 8, Batch 1 loss: 4.877086\n",
      "Epoch 8, Batch 101 loss: 3.763122\n",
      "Epoch 8, Batch 201 loss: 3.816839\n",
      "Epoch 8, Batch 301 loss: 3.826893\n",
      "Epoch 8, Batch 401 loss: 3.820343\n",
      "Epoch 8, Batch 501 loss: 3.817511\n",
      "Epoch 8, Batch 601 loss: 3.822469\n",
      "Epoch: 8 \tTraining Loss: 3.815495 \tValidation Loss: 3.893092\n",
      "Validation loss decreased (4.032879 --> 3.893092).  Saving model ...\n",
      "Epoch 9, Batch 1 loss: 4.520104\n",
      "Epoch 9, Batch 101 loss: 3.704387\n",
      "Epoch 9, Batch 201 loss: 3.730163\n",
      "Epoch 9, Batch 301 loss: 3.732737\n",
      "Epoch 9, Batch 401 loss: 3.721135\n",
      "Epoch 9, Batch 501 loss: 3.716865\n",
      "Epoch 9, Batch 601 loss: 3.727503\n",
      "Epoch: 9 \tTraining Loss: 3.727233 \tValidation Loss: 3.785837\n",
      "Validation loss decreased (3.893092 --> 3.785837).  Saving model ...\n",
      "Epoch 10, Batch 1 loss: 3.638615\n",
      "Epoch 10, Batch 101 loss: 3.611552\n",
      "Epoch 10, Batch 201 loss: 3.620904\n",
      "Epoch 10, Batch 301 loss: 3.612272\n",
      "Epoch 10, Batch 401 loss: 3.630766\n",
      "Epoch 10, Batch 501 loss: 3.646071\n",
      "Epoch 10, Batch 601 loss: 3.640613\n",
      "Epoch: 10 \tTraining Loss: 3.647463 \tValidation Loss: 3.754906\n",
      "Validation loss decreased (3.785837 --> 3.754906).  Saving model ...\n",
      "Epoch 11, Batch 1 loss: 2.874635\n",
      "Epoch 11, Batch 101 loss: 3.491140\n",
      "Epoch 11, Batch 201 loss: 3.491477\n",
      "Epoch 11, Batch 301 loss: 3.495246\n",
      "Epoch 11, Batch 401 loss: 3.528197\n",
      "Epoch 11, Batch 501 loss: 3.530424\n",
      "Epoch 11, Batch 601 loss: 3.544006\n",
      "Epoch: 11 \tTraining Loss: 3.557694 \tValidation Loss: 3.682528\n",
      "Validation loss decreased (3.754906 --> 3.682528).  Saving model ...\n",
      "Epoch 12, Batch 1 loss: 3.611512\n",
      "Epoch 12, Batch 101 loss: 3.406857\n",
      "Epoch 12, Batch 201 loss: 3.397193\n",
      "Epoch 12, Batch 301 loss: 3.428219\n",
      "Epoch 12, Batch 401 loss: 3.437301\n",
      "Epoch 12, Batch 501 loss: 3.443012\n",
      "Epoch 12, Batch 601 loss: 3.450846\n",
      "Epoch: 12 \tTraining Loss: 3.449759 \tValidation Loss: 3.607445\n",
      "Validation loss decreased (3.682528 --> 3.607445).  Saving model ...\n",
      "Epoch 13, Batch 1 loss: 3.635633\n",
      "Epoch 13, Batch 101 loss: 3.386221\n",
      "Epoch 13, Batch 201 loss: 3.379840\n",
      "Epoch 13, Batch 301 loss: 3.393087\n",
      "Epoch 13, Batch 401 loss: 3.389827\n",
      "Epoch 13, Batch 501 loss: 3.394391\n",
      "Epoch 13, Batch 601 loss: 3.394603\n",
      "Epoch: 13 \tTraining Loss: 3.403927 \tValidation Loss: 3.737421\n",
      "Epoch 14, Batch 1 loss: 2.910635\n",
      "Epoch 14, Batch 101 loss: 3.257269\n",
      "Epoch 14, Batch 201 loss: 3.238601\n",
      "Epoch 14, Batch 301 loss: 3.267710\n",
      "Epoch 14, Batch 401 loss: 3.277245\n",
      "Epoch 14, Batch 501 loss: 3.294897\n",
      "Epoch 14, Batch 601 loss: 3.297395\n",
      "Epoch: 14 \tTraining Loss: 3.304343 \tValidation Loss: 3.545807\n",
      "Validation loss decreased (3.607445 --> 3.545807).  Saving model ...\n",
      "Epoch 15, Batch 1 loss: 3.044551\n",
      "Epoch 15, Batch 101 loss: 3.120058\n",
      "Epoch 15, Batch 201 loss: 3.144458\n",
      "Epoch 15, Batch 301 loss: 3.183858\n",
      "Epoch 15, Batch 401 loss: 3.219954\n",
      "Epoch 15, Batch 501 loss: 3.228485\n",
      "Epoch 15, Batch 601 loss: 3.250300\n",
      "Epoch: 15 \tTraining Loss: 3.253584 \tValidation Loss: 3.712519\n",
      "Epoch 16, Batch 1 loss: 2.800770\n",
      "Epoch 16, Batch 101 loss: 3.116303\n",
      "Epoch 16, Batch 201 loss: 3.161427\n",
      "Epoch 16, Batch 301 loss: 3.169045\n",
      "Epoch 16, Batch 401 loss: 3.180085\n",
      "Epoch 16, Batch 501 loss: 3.198555\n",
      "Epoch 16, Batch 601 loss: 3.191784\n",
      "Epoch: 16 \tTraining Loss: 3.203887 \tValidation Loss: 3.600992\n",
      "Epoch 17, Batch 1 loss: 2.873702\n",
      "Epoch 17, Batch 101 loss: 3.049052\n",
      "Epoch 17, Batch 201 loss: 3.089402\n",
      "Epoch 17, Batch 301 loss: 3.081803\n",
      "Epoch 17, Batch 401 loss: 3.091272\n",
      "Epoch 17, Batch 501 loss: 3.121188\n",
      "Epoch 17, Batch 601 loss: 3.131062\n",
      "Epoch: 17 \tTraining Loss: 3.144679 \tValidation Loss: 3.590099\n",
      "Epoch 18, Batch 1 loss: 2.217383\n",
      "Epoch 18, Batch 101 loss: 2.941587\n",
      "Epoch 18, Batch 201 loss: 3.014905\n",
      "Epoch 18, Batch 301 loss: 3.052046\n",
      "Epoch 18, Batch 401 loss: 3.081429\n",
      "Epoch 18, Batch 501 loss: 3.097320\n",
      "Epoch 18, Batch 601 loss: 3.089748\n",
      "Epoch: 18 \tTraining Loss: 3.097947 \tValidation Loss: 3.528983\n",
      "Validation loss decreased (3.545807 --> 3.528983).  Saving model ...\n",
      "Epoch 19, Batch 1 loss: 2.609641\n",
      "Epoch 19, Batch 101 loss: 2.939149\n",
      "Epoch 19, Batch 201 loss: 3.006209\n",
      "Epoch 19, Batch 301 loss: 2.996345\n",
      "Epoch 19, Batch 401 loss: 3.029637\n",
      "Epoch 19, Batch 501 loss: 3.070040\n",
      "Epoch 19, Batch 601 loss: 3.074174\n",
      "Epoch: 19 \tTraining Loss: 3.088359 \tValidation Loss: 3.560626\n",
      "Epoch 20, Batch 1 loss: 2.667499\n",
      "Epoch 20, Batch 101 loss: 2.918899\n",
      "Epoch 20, Batch 201 loss: 2.959476\n",
      "Epoch 20, Batch 301 loss: 2.992868\n",
      "Epoch 20, Batch 401 loss: 3.000175\n",
      "Epoch 20, Batch 501 loss: 2.999334\n",
      "Epoch 20, Batch 601 loss: 3.007568\n",
      "Epoch: 20 \tTraining Loss: 3.017878 \tValidation Loss: 3.514397\n",
      "Validation loss decreased (3.528983 --> 3.514397).  Saving model ...\n",
      "Epoch 21, Batch 1 loss: 1.972817\n",
      "Epoch 21, Batch 101 loss: 2.871012\n",
      "Epoch 21, Batch 201 loss: 2.851001\n",
      "Epoch 21, Batch 301 loss: 2.860554\n",
      "Epoch 21, Batch 401 loss: 2.915757\n",
      "Epoch 21, Batch 501 loss: 2.983633\n",
      "Epoch 21, Batch 601 loss: 3.015811\n",
      "Epoch: 21 \tTraining Loss: 3.032629 \tValidation Loss: 3.747496\n",
      "Epoch 22, Batch 1 loss: 3.829738\n",
      "Epoch 22, Batch 101 loss: 2.941631\n",
      "Epoch 22, Batch 201 loss: 2.913233\n",
      "Epoch 22, Batch 301 loss: 2.949061\n",
      "Epoch 22, Batch 401 loss: 2.980816\n",
      "Epoch 22, Batch 501 loss: 2.987297\n",
      "Epoch 22, Batch 601 loss: 2.999143\n",
      "Epoch: 22 \tTraining Loss: 3.009708 \tValidation Loss: 3.558126\n",
      "Epoch 23, Batch 1 loss: 1.427433\n",
      "Epoch 23, Batch 101 loss: 2.836224\n",
      "Epoch 23, Batch 201 loss: 2.890974\n",
      "Epoch 23, Batch 301 loss: 2.933810\n",
      "Epoch 23, Batch 401 loss: 2.950001\n",
      "Epoch 23, Batch 501 loss: 2.957468\n",
      "Epoch 23, Batch 601 loss: 2.961276\n",
      "Epoch: 23 \tTraining Loss: 2.948249 \tValidation Loss: 3.846868\n",
      "Epoch 24, Batch 1 loss: 3.864688\n",
      "Epoch 24, Batch 101 loss: 2.892037\n",
      "Epoch 24, Batch 201 loss: 2.834615\n",
      "Epoch 24, Batch 301 loss: 2.841044\n",
      "Epoch 24, Batch 401 loss: 2.874391\n",
      "Epoch 24, Batch 501 loss: 2.886539\n",
      "Epoch 24, Batch 601 loss: 2.907241\n",
      "Epoch: 24 \tTraining Loss: 2.925184 \tValidation Loss: 3.712290\n",
      "Epoch 25, Batch 1 loss: 2.445697\n"
     ]
    },
    {
     "name": "stdout",
     "output_type": "stream",
     "text": [
      "Epoch 25, Batch 101 loss: 2.829391\n",
      "Epoch 25, Batch 201 loss: 2.911821\n",
      "Epoch 25, Batch 301 loss: 2.881733\n",
      "Epoch 25, Batch 401 loss: 2.941877\n",
      "Epoch 25, Batch 501 loss: 2.947832\n",
      "Epoch 25, Batch 601 loss: 2.943673\n",
      "Epoch: 25 \tTraining Loss: 2.958499 \tValidation Loss: 3.750996\n",
      "Wall time: 37min 18s\n"
     ]
    }
   ],
   "source": [
    "%%time\n",
    "# train the model\n",
    "model_scratch = train(25, loaders, model, optimizer,criterion, use_cuda, 'model_scratch.pt')\n",
    "#model_scratch = train(10, loaders, classifier, optimizer,criterion, True, 'model_scratch.pt')"
   ]
  },
  {
   "cell_type": "code",
   "execution_count": 14,
   "metadata": {
    "scrolled": true
   },
   "outputs": [],
   "source": [
    "#pwd"
   ]
  },
  {
   "cell_type": "code",
   "execution_count": 15,
   "metadata": {},
   "outputs": [
    {
     "data": {
      "text/plain": [
       "<All keys matched successfully>"
      ]
     },
     "execution_count": 15,
     "metadata": {},
     "output_type": "execute_result"
    }
   ],
   "source": [
    "model_scratch.load_state_dict(torch.load('model_scratch.pt'))"
   ]
  },
  {
   "cell_type": "code",
   "execution_count": 16,
   "metadata": {
    "scrolled": true
   },
   "outputs": [
    {
     "name": "stdout",
     "output_type": "stream",
     "text": [
      "Test Loss: 3.566524\n",
      "\n",
      "\n",
      "Test Accuracy: 17% (143/836)\n"
     ]
    }
   ],
   "source": [
    "def test(loaders, model, criterion, use_cuda):\n",
    "\n",
    "    # monitor test loss and accuracy\n",
    "    test_loss = 0.\n",
    "    correct = 0.\n",
    "    total = 0.\n",
    "\n",
    "    model.eval()\n",
    "    for batch_idx, (data, target) in enumerate(loaders['test']):\n",
    "        # move to GPU\n",
    "        if use_cuda:\n",
    "            data, target = data.cuda(), target.cuda()\n",
    "        # forward pass: compute predicted outputs by passing inputs to the model\n",
    "        output = model(data)\n",
    "        # calculate the loss\n",
    "        loss = criterion(output, target)\n",
    "        # update average test loss \n",
    "        test_loss = test_loss + ((1 / (batch_idx + 1)) * (loss.data - test_loss))\n",
    "        # convert output probabilities to predicted class\n",
    "        pred = output.data.max(1, keepdim=True)[1]\n",
    "        # compare predictions to true label\n",
    "        correct += np.sum(np.squeeze(pred.eq(target.data.view_as(pred))).cpu().numpy())\n",
    "        total += data.size(0)\n",
    "            \n",
    "    print('Test Loss: {:.6f}\\n'.format(test_loss))\n",
    "\n",
    "    print('\\nTest Accuracy: %2d%% (%2d/%2d)' % (\n",
    "        100. * correct / total, correct, total))\n",
    "\n",
    "# call test function    \n",
    "test(loaders, model, criterion, use_cuda)"
   ]
  },
  {
   "cell_type": "code",
   "execution_count": 17,
   "metadata": {},
   "outputs": [],
   "source": [
    "#TRANSFER"
   ]
  },
  {
   "cell_type": "code",
   "execution_count": null,
   "metadata": {},
   "outputs": [],
   "source": [
    "loaders_transfer = loaders.copy()"
   ]
  },
  {
   "cell_type": "code",
   "execution_count": null,
   "metadata": {
    "scrolled": true
   },
   "outputs": [],
   "source": [
    "import torchvision.models as models\n",
    "import torch.nn as nn\n",
    "\n",
    "## TODO: Specify model architecture \n",
    "#model_transfer = models.resnet50(pretrained=True)\n",
    "#model_transfer = models.resnet18(pretrained=True)\n",
    "model_transfer = models.alexnet(pretrained=True)"
   ]
  },
  {
   "cell_type": "code",
   "execution_count": null,
   "metadata": {
    "scrolled": true
   },
   "outputs": [],
   "source": [
    "for param in model_transfer.parameters(): #resnet\n",
    "    param.requires_grad = False #resnet\n",
    "\n",
    "#for the last layer\n",
    "model_transfer.fc = nn.Linear(2048, 133, bias=True) #resnet50\n",
    "\n",
    "fc_parameters = model_transfer.fc.parameters() #resnet\n",
    "\n",
    "for param in fc_parameters: #resnet\n",
    "    param.requires_grad = True #resnet\n",
    "    \n",
    "model_transfer"
   ]
  },
  {
   "cell_type": "code",
   "execution_count": null,
   "metadata": {},
   "outputs": [],
   "source": [
    "#use_cuda = torch.cuda.is_available()\n",
    "#print(use_cuda)\n",
    "#use_cuda = True\n",
    "# Reset last layer\n",
    "num_ftrs = model_transfer.fc.in_features\n",
    "model_transfer.fc = nn.Linear(num_ftrs, 133)"
   ]
  },
  {
   "cell_type": "code",
   "execution_count": null,
   "metadata": {},
   "outputs": [],
   "source": [
    "IN_FEATURES = model_transfer.classifier[-1].in_features  #alexnet\n",
    "final_fc = nn.Linear(IN_FEATURES, 133) #alenext"
   ]
  },
  {
   "cell_type": "code",
   "execution_count": null,
   "metadata": {},
   "outputs": [],
   "source": [
    "#device = torch.device('cuda' if torch.cuda.is_available() else 'cpu') #to put our model and data on the GPU\n",
    "\n",
    "criterion_transfer = nn.CrossEntropyLoss()\n",
    "optimizer_transfer = optim.SGD(model_transfer.parameters(), lr=0.001) #alexnet\n",
    "#optimizer_transfer = optim.SGD(model_transfer.fc.parameters(), lr=0.001) #resnet\n",
    "\n",
    "#model_transfer = model_transfer.to(device) # colocando el modelo en el device\n",
    "#criterion = criterion.to(device) # colocando el criterio en el device"
   ]
  },
  {
   "cell_type": "code",
   "execution_count": null,
   "metadata": {},
   "outputs": [],
   "source": [
    "#model_transfer.load_state_dict(torch.load('model_transfer.pt'))\n",
    "#model_transfer.load_state_dict(torch.load('model_scratch.pt'))\n",
    "model_transfer=train(5, loaders_transfer, model_transfer, optimizer_transfer, criterion_transfer, True, 'model_transfer.pt')"
   ]
  },
  {
   "cell_type": "code",
   "execution_count": null,
   "metadata": {},
   "outputs": [],
   "source": [
    "model_transfer.load_state_dict(torch.load('model_transfer.pt'))"
   ]
  },
  {
   "cell_type": "code",
   "execution_count": null,
   "metadata": {},
   "outputs": [],
   "source": [
    "test(loaders_transfer, model_transfer, criterion_transfer, use_cuda)"
   ]
  },
  {
   "cell_type": "code",
   "execution_count": null,
   "metadata": {},
   "outputs": [],
   "source": [
    "### TODO: Write a function that takes a path to an image as input\n",
    "### and returns the dog breed that is predicted by the model.\n",
    "\n",
    "normalize = transforms.Normalize(mean=[0.485, 0.456, 0.406],\n",
    "                                 std=[0.229, 0.224, 0.225])\n",
    "\n",
    "# list of class names by index, i.e. a name can be accessed like class_names[0]\n",
    "class_names = [item[4:].replace(\"_\", \" \") for item in loaders_transfer['train'].dataset.classes]\n",
    "from PIL import Image\n",
    "import torchvision.transforms as transforms\n",
    "\n",
    "def load_input(img_path):    \n",
    "    image = Image.open(img_path).convert('RGB')\n",
    "    prediction = transforms.Compose([transforms.Resize(size=(224, 224)),\n",
    "                                     transforms.ToTensor(), \n",
    "                                     normalize])\n",
    "\n",
    "    # discard the transparent, alpha channel (that's the :3) and add the batch dimension\n",
    "    result = prediction(image)[:3,:,:].unsqueeze(0)\n",
    "    return result\n",
    "\n",
    "def predict_breed_transfer(model, class_names, img_path):\n",
    "    # load the image and return the predicted breed\n",
    "    img = load_input(img_path)\n",
    "    model = model.cpu()\n",
    "    model.eval()\n",
    "    id = torch.argmax(model(img))\n",
    "    return class_names[id]\n",
    "\n",
    "for img_file in os.listdir('./images'):\n",
    "    img_path = os.path.join('./images', img_file)\n",
    "    predition = predict_breed_transfer(model_transfer, class_names, img_path)\n",
    "    print(\"image_name: {0}, \\t predition breed: {1}\".format(img_path, predition))"
   ]
  },
  {
   "cell_type": "code",
   "execution_count": null,
   "metadata": {},
   "outputs": [],
   "source": [
    "def run_app(img_path):\n",
    "    ## handle cases for a human face, dog, and neither\n",
    "    img = Image.open(img_path)\n",
    "    plt.imshow(img)\n",
    "    plt.show()\n",
    "    if dog_detector(img_path) is True:\n",
    "        prediction = predict_breed_transfer(model_transfer, class_names, img_path)\n",
    "        print(\"Dogs Detected!\\nIt looks like a {0}\".format(prediction))  \n",
    "    #elif face_detector(img_path) > 0:\n",
    "     #   prediction = predict_breed_transfer(model_transfer, class_names, img_path)\n",
    "      #  print(\"Hello, human!\\nIf you were a dog..You may look like a {0}\".format(prediction))\n",
    "    else:\n",
    "        prediction = predict_breed_transfer(model_transfer, class_names, img_path)\n",
    "        print(\"Hello, human!\\nIf you were a dog..You may look like a {0}\".format(prediction))\n",
    "\n",
    "for img_file in os.listdir('./images'):\n",
    "    img_path = os.path.join('./images', img_file)\n",
    "    run_app(img_path)"
   ]
  },
  {
   "cell_type": "code",
   "execution_count": null,
   "metadata": {},
   "outputs": [],
   "source": [
    "#for file in np.hstack((human_files[:3], dog_files[:3])):\n",
    " #   run_app(file)\n",
    "for img_file in os.listdir('./images2'):\n",
    "    img_path = os.path.join('./images2', img_file)\n",
    "    run_app(img_path)    "
   ]
  },
  {
   "cell_type": "code",
   "execution_count": null,
   "metadata": {},
   "outputs": [],
   "source": []
  },
  {
   "cell_type": "code",
   "execution_count": null,
   "metadata": {},
   "outputs": [],
   "source": []
  }
 ],
 "metadata": {
  "kernelspec": {
   "display_name": "Python 3",
   "language": "python",
   "name": "python3"
  },
  "language_info": {
   "codemirror_mode": {
    "name": "ipython",
    "version": 3
   },
   "file_extension": ".py",
   "mimetype": "text/x-python",
   "name": "python",
   "nbconvert_exporter": "python",
   "pygments_lexer": "ipython3",
   "version": "3.7.6"
  }
 },
 "nbformat": 4,
 "nbformat_minor": 4
}
